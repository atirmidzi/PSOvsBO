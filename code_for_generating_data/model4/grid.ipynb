{
 "cells": [
  {
   "cell_type": "code",
   "execution_count": null,
   "id": "f10b09f4",
   "metadata": {},
   "outputs": [],
   "source": [
    "import numpy as np\n",
    "import pandas as pd\n",
    "import quantecon as qe\n",
    "from sklearn.gaussian_process import GaussianProcessRegressor\n",
    "from sklearn.gaussian_process.kernels import WhiteKernel, RBF"
   ]
  },
  {
   "cell_type": "code",
   "execution_count": null,
   "id": "66b9cee7",
   "metadata": {
    "scrolled": true
   },
   "outputs": [],
   "source": [
    "df = pd.read_csv('../../models/model4/AuIrOsPdPtReRhRu_0.60_compositions_and_targets.csv')\n",
    "#Splitting x and y into fitting\n",
    "X_columns = ['Pt','Pd','Au','Ru','Rh','Ir','Re','Os']\n",
    "x = df[X_columns].to_numpy()\n",
    "y = df['current_over_capacitance'].to_numpy()\n",
    "\n",
    "#GPR model\n",
    "kernel =RBF() + WhiteKernel()\n",
    "gpr = GaussianProcessRegressor(kernel = kernel, random_state=0, normalize_y=True).fit(x, y)\n",
    "print(gpr.kernel_)"
   ]
  },
  {
   "cell_type": "code",
   "execution_count": null,
   "id": "07f4be02",
   "metadata": {},
   "outputs": [],
   "source": [
    "#Define parameter for creating grid data\n",
    "step_size = 5 #Step size in atomic percent (%)\n",
    "elements = 8\n",
    "\n",
    "#Create Grid Data\n",
    "grid = qe.simplex_grid(elements, (100/step_size))/(100/step_size)\n",
    "element = ['Pt','Pd','Au','Ru','Rh','Ir','Re','Os']\n",
    "\n",
    "act = []\n",
    "for i in grid:\n",
    "    act.append(float(gpr.predict(np.reshape(i, (1, -1)))))\n",
    "data_grid = pd.DataFrame(grid, columns = [element])\n",
    "data_grid = data_grid.assign(Activity = act)\n",
    "data_grid.to_csv('../../raw_data/composition_vs_activity/model4/grid/grid_data.txt', sep='\\t', mode='w')"
   ]
  }
 ],
 "metadata": {
  "kernelspec": {
   "display_name": "temp2",
   "language": "python",
   "name": "python3"
  },
  "language_info": {
   "codemirror_mode": {
    "name": "ipython",
    "version": 3
   },
   "file_extension": ".py",
   "mimetype": "text/x-python",
   "name": "python",
   "nbconvert_exporter": "python",
   "pygments_lexer": "ipython3",
   "version": "3.8.15"
  }
 },
 "nbformat": 4,
 "nbformat_minor": 5
}
