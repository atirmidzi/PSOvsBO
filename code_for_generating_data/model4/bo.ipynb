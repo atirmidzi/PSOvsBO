{
 "cells": [
  {
   "cell_type": "code",
   "execution_count": 1,
   "id": "bfa1df62",
   "metadata": {},
   "outputs": [],
   "source": [
    "import numpy as np\n",
    "import pandas as pd\n",
    "from sklearn.ensemble import RandomForestRegressor\n",
    "import GPyOpt\n",
    "from GPyOpt.methods import BayesianOptimization\n",
    "from sklearn.gaussian_process import GaussianProcessRegressor\n",
    "from sklearn.gaussian_process.kernels import DotProduct, WhiteKernel, RBF"
   ]
  },
  {
   "cell_type": "code",
   "execution_count": null,
   "id": "70c2bf97",
   "metadata": {},
   "outputs": [],
   "source": [
    "df = pd.read_csv('AuIrOsPdPtReRhRu_0.60_compositions_and_targets.csv')\n",
    "#Splitting x and y into fitting\n",
    "X_columns = ['Pt','Pd','Au','Ru','Rh','Ir','Re','Os']\n",
    "x = df[X_columns].to_numpy()\n",
    "y = df['current_over_capacitance'].to_numpy()\n",
    "\n",
    "#Fitting model on the train data\n",
    "#GPR model\n",
    "kernel =RBF() + WhiteKernel()\n",
    "rf = GaussianProcessRegressor(kernel = kernel, random_state=0, normalize_y=True).fit(x, y)"
   ]
  },
  {
   "cell_type": "code",
   "execution_count": 3,
   "id": "79bc1bc1",
   "metadata": {
    "scrolled": true
   },
   "outputs": [],
   "source": [
    "class bo_batch:\n",
    "    def __init__(self, initial_raw):\n",
    "        self.initial_raw = initial_raw\n",
    "        self.compositions = self.create_composition(self.initial_raw)\n",
    "        self.activity = self.f_activity(self.compositions)\n",
    "        \n",
    "        #Defining function and parameters for optimization\n",
    "        domain_value = np.linspace(0, 1, num=101)\n",
    "\n",
    "        self.domain = [{'name': 'var_1', 'type': 'discrete', 'domain' : domain_value},\n",
    "                       {'name': 'var_2', 'type': 'discrete', 'domain' : domain_value},\n",
    "                       {'name': 'var_3', 'type': 'discrete', 'domain' : domain_value},\n",
    "                       {'name': 'var_4', 'type': 'discrete', 'domain' : domain_value},\n",
    "                       {'name': 'var_5', 'type': 'discrete', 'domain' : domain_value},\n",
    "                       {'name': 'var_6', 'type': 'discrete', 'domain' : domain_value},\n",
    "                       {'name': 'var_7', 'type': 'discrete', 'domain' : domain_value}]\n",
    "        self.constraints = [{'name':'const_1', 'constraint': 'x[:,0]+x[:,1]+x[:,2]+x[:,3]+x[:,4]+x[:,5]+x[:,6]-1'}]\n",
    "        \n",
    "        \n",
    "    def create_composition(self, raw):\n",
    "        #Create initial composition\n",
    "        last_element = []\n",
    "        for i in range(len(raw)):\n",
    "            last_element.append(round(1 - sum(raw[i]), 2))\n",
    "        last_element = np.array(last_element).reshape(-1, 1)\n",
    "        composition = np.hstack((raw, last_element))\n",
    "        return composition\n",
    "\n",
    "    def f_activity(self, composition):    \n",
    "        #Create initial activity\n",
    "        activity = []\n",
    "        for i in range(len(composition)):\n",
    "            activity.append(float(rf.predict(composition[i].reshape(1, -1))))\n",
    "        activity = np.array(activity).reshape(-1, 1)\n",
    "        return activity\n",
    "    \n",
    "    def make_rf(self, composition, activity):\n",
    "        #Create RF model with initial composition and activity\n",
    "        self.ran = RandomForestRegressor(n_estimators = 1024,\n",
    "                                    bootstrap = True,\n",
    "                                    max_depth = None,\n",
    "                                    max_features = 'auto',\n",
    "                                    min_samples_leaf = 1,\n",
    "                                    min_samples_split = 2,\n",
    "                                    oob_score = True)\n",
    "        self.ran.fit(composition, activity)\n",
    "        return\n",
    "    \n",
    "    def f_BO(self, x):\n",
    "        #Adjust x with number of dimension\n",
    "        x = np.append(x,[1-x[:,0]-x[:,1]-x[:,2]-x[:,3]-x[:,4]-x[:,5]-x[:,6]])\n",
    "        y = self.ran.predict(np.reshape(x, (1, -1)))\n",
    "        return y\n",
    "    \n",
    "    def next_samples_BO(self):\n",
    "        iteration_number = len(self.initial_raw)\n",
    "        BYS = GPyOpt.methods.BayesianOptimization(self.f_BO, \n",
    "                                                  domain = self.domain,\n",
    "                                                  initial_design_numdata = 1,\n",
    "                                                  X = self.compositions[:, :-1],\n",
    "                                                  Y = self.activity,\n",
    "                                                  constraints = self.constraints,\n",
    "                                                  de_duplication=True)\n",
    "        BYS.run_optimization(max_iter=(iteration_number))\n",
    "        self.next_compositions = self.create_composition(BYS.get_evaluations()[0][-(len(self.initial_raw)):])\n",
    "        return self.next_compositions\n",
    "    \n",
    "    def create_next_generation(self, generation):\n",
    "        for i in range(generation):\n",
    "            self.make_rf(self.compositions, self.activity)\n",
    "            self.compositions = np.vstack((self.compositions, self.next_samples_BO()))\n",
    "            self.activity = np.vstack((self.activity, self.f_activity(self.next_compositions)))\n",
    "        return"
   ]
  },
  {
   "cell_type": "code",
   "execution_count": 6,
   "id": "cfe71929",
   "metadata": {
    "scrolled": false
   },
   "outputs": [],
   "source": [
    "initial_raw = np.array([[0.79, 0.03, 0.03, 0.03, 0.03, 0.03, 0.03],\n",
    "                        [0.03, 0.79, 0.03, 0.03, 0.03, 0.03, 0.03],\n",
    "                        [0.03, 0.03, 0.79, 0.03, 0.03, 0.03, 0.03],\n",
    "                        [0.03, 0.03, 0.03, 0.79, 0.03, 0.03, 0.03],\n",
    "                        [0.03, 0.03, 0.03, 0.03, 0.79, 0.03, 0.03],\n",
    "                        [0.03, 0.03, 0.03, 0.03, 0.03, 0.79, 0.03],\n",
    "                        [0.03, 0.03, 0.03, 0.03, 0.03, 0.03, 0.79],\n",
    "                        [0.03, 0.03, 0.03, 0.03, 0.03, 0.03, 0.03]])"
   ]
  },
  {
   "cell_type": "code",
   "execution_count": null,
   "id": "ab0d2b54",
   "metadata": {},
   "outputs": [],
   "source": [
    "for i in range(5):\n",
    "    sample = bo_batch(initial_raw)\n",
    "    sample.create_next_generation(generation = 20)\n",
    "\n",
    "    result = pd.DataFrame(sample.compositions, columns = ['Pt','Pd','Au','Ru','Rh','Ir','Re','Os'])\n",
    "    result.insert(0, 'Iteration', list(range(1, (len(sample.compositions)+1))))\n",
    "    result = result.assign(Activity = sample.activity)\n",
    "    result.to_csv('../../raw_data/composition_vs_activity/model2/BO/result_' + str(i) + '.txt', sep='\\t', mode='w')"
   ]
  }
 ],
 "metadata": {
  "kernelspec": {
   "display_name": "Python 3 (ipykernel)",
   "language": "python",
   "name": "python3"
  },
  "language_info": {
   "codemirror_mode": {
    "name": "ipython",
    "version": 3
   },
   "file_extension": ".py",
   "mimetype": "text/x-python",
   "name": "python",
   "nbconvert_exporter": "python",
   "pygments_lexer": "ipython3",
   "version": "3.9.12"
  }
 },
 "nbformat": 4,
 "nbformat_minor": 5
}
