{
 "cells": [
  {
   "cell_type": "code",
   "execution_count": null,
   "id": "885400da",
   "metadata": {},
   "outputs": [],
   "source": [
    "import numpy as np\n",
    "import pandas as pd\n",
    "import quantecon as qe\n",
    "import sys\n",
    "sys.path.append(r'../../models/model1/cheat-main/search')\n",
    "import composition_search"
   ]
  },
  {
   "cell_type": "code",
   "execution_count": null,
   "id": "e8be3ff4",
   "metadata": {},
   "outputs": [],
   "source": [
    "#Define parameter for creating grid data\n",
    "step_size = 20 #Step size in atomic percent (%)\n",
    "elements = ['Ag', 'Ir', 'Pd', 'Pt', 'Ru']\n",
    "\n",
    "#Create Grid Data\n",
    "grid = qe.simplex_grid(len(elements), (100/step_size))/(100/step_size)\n",
    "act = []\n",
    "for i in grid:\n",
    "    act.append(composition_search.calculate_activity(elements, i))\n",
    "data_grid = pd.DataFrame(grid, columns = [elements])\n",
    "data_grid = data_grid.assign(Activity = act)\n",
    "data_grid.to_csv('../../raw_data/composition_vs_activity/model1/grid/grid_data.txt', sep='\\t', mode='w')\n"
   ]
  }
 ],
 "metadata": {
  "kernelspec": {
   "display_name": "temp2",
   "language": "python",
   "name": "python3"
  },
  "language_info": {
   "codemirror_mode": {
    "name": "ipython",
    "version": 3
   },
   "file_extension": ".py",
   "mimetype": "text/x-python",
   "name": "python",
   "nbconvert_exporter": "python",
   "pygments_lexer": "ipython3",
   "version": "3.8.15"
  }
 },
 "nbformat": 4,
 "nbformat_minor": 5
}
