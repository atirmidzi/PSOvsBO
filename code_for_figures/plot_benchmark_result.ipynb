{
 "cells": [
  {
   "cell_type": "code",
   "execution_count": null,
   "id": "46dafaf0",
   "metadata": {},
   "outputs": [],
   "source": [
    "import numpy as np\n",
    "import pandas as pd\n",
    "from matplotlib import pyplot as plt"
   ]
  },
  {
   "cell_type": "code",
   "execution_count": null,
   "id": "5f3c9e1a",
   "metadata": {
    "code_folding": [
     17
    ]
   },
   "outputs": [],
   "source": [
    "class plotting_benchmark:\n",
    "    def __init__ (self, datatype, directory, max_generation, label, repetition, bayesian, initial_points, top_value, factor = 1):\n",
    "        self.table = pd.DataFrame(list(range(0, (max_generation+1))), columns = ['Generation'])\n",
    "        for i in label:\n",
    "            data = pd.read_csv(str(directory) + str(i) + str(datatype) + '.txt', sep='\\t')\n",
    "            for j in range(repetition):\n",
    "                self.table[str(i) + 'Raw_' + str(j)] = data['Raw_' + str(j)]         \n",
    "            self.table[str(i) + 'Relative'] = data['Mean']/top_value\n",
    "            self.table[str(i) + 'Mean'] = data['Mean'] * factor\n",
    "            self.table[str(i) + 'STD'] = data['STD']\n",
    "\n",
    "        self.bayesian = pd.read_csv(str(bayesian) + str(datatype) + '.txt', sep='\\t')\n",
    "        self.bayesian = self.bayesian.iloc[(initial_points-1):].reset_index(drop=True)\n",
    "        self.bayesian['Generation'] = self.bayesian['Generation'] - initial_points + 1\n",
    "        self.bayesian['Relative'] = self.bayesian['Mean']/top_value\n",
    "        return"
   ]
  },
  {
   "cell_type": "code",
   "execution_count": null,
   "id": "351730f6",
   "metadata": {},
   "outputs": [],
   "source": [
    "def create_subplot(table_0, table_1, table_2, table_3, x_low, x_high, y_low, y_high, y_label):\n",
    "    legend = ['HP 1', 'HP 2', 'HP 3', 'HP 4']\n",
    "    color = ['#cd81b5', '#ffbf4c', '#5db25b', '#6eade1', '#111111']\n",
    "    \n",
    "    \n",
    "    #Making variable\n",
    "    data = []\n",
    "    for i in range(4):\n",
    "        data.append(locals()['table_' + str(i)])\n",
    "\n",
    "    \n",
    "    #Plotting\n",
    "    fig, axs = plt.subplots(ncols = 2, nrows = 2, figsize=(7, 6), sharey=True, sharex=True, dpi = 300)\n",
    "    position = [axs[0, 0], axs[0, 1], axs[1, 0], axs[1, 1]]\n",
    "    \n",
    "    for i in range(4):   \n",
    "        ax = position[i]\n",
    "        ax.plot(data[i].table['Generation'].loc[x_low:x_high], data[i].table[str(label[0]) + 'Relative'].loc[0:x_high], label = str(legend[0]), marker = 'o', markersize = 3, linewidth=1, color = color[0])\n",
    "        ax.plot(data[i].table['Generation'].loc[x_low:x_high], data[i].table[str(label[1]) + 'Relative'].loc[0:x_high], label = str(legend[1]), marker = 'o', markersize = 3, linewidth=1, color = color[1])\n",
    "        ax.plot(data[i].table['Generation'].loc[x_low:x_high], data[i].table[str(label[2]) + 'Relative'].loc[0:x_high], label = str(legend[2]), marker = 'o', markersize = 3, linewidth=1, color = color[2])\n",
    "        ax.plot(data[i].table['Generation'].loc[x_low:x_high], data[i].table[str(label[3]) + 'Relative'].loc[0:x_high], label = str(legend[3]), marker = 'o', markersize = 3, linewidth=1, color = color[3])\n",
    "        ax.plot(data[i].table['Generation'].loc[x_low:x_high], data[i].bayesian['Relative'].loc[0:x_high], label = 'BBO', marker = 'd', markersize = 3, linewidth=1, color = color[4])\n",
    "        ax.set_xticks(np.arange((x_low), (x_high+1), 3), fontsize = 10)\n",
    "        ax.set_ylim(y_low, y_high)\n",
    "        ax.text(0.87, 0.05, model_title[i], horizontalalignment='center', transform=ax.transAxes, fontsize = 10)\n",
    "        if i == 3:\n",
    "            ax.legend(ncol = 2, loc = 'center right', bbox_to_anchor=(0.3, -0.35))\n",
    "        \n",
    "    #Labelling\n",
    "    plt.text(-4.3, 0.02, s='Generation', fontsize = 11)\n",
    "    plt.suptitle('Best Activity Found (a.u.)', x = 0.06, y= 0.67, fontsize = 11, rotation = 90)\n",
    "    plt.rc('ytick', labelsize=10)\n",
    "\n",
    "    plt.subplots_adjust(wspace=0.07, hspace=0.05)\n",
    "    plt.show()\n",
    "    return"
   ]
  },
  {
   "cell_type": "code",
   "execution_count": null,
   "id": "711b7561",
   "metadata": {
    "code_folding": [
     2
    ]
   },
   "outputs": [],
   "source": [
    "#Creating label name\n",
    "label = []\n",
    "for i in range(4):\n",
    "    label.append('PSO_' + str(i) + '_')\n",
    "\n",
    "#Create variables\n",
    "directory = ['model1', 'model2', 'model3', 'model4']\n",
    "maximum_activity = [0.163182, 0.213387, 0.167831, 1.039926]\n",
    "initial_points = [1, 1, 1, 1]\n",
    "\n",
    "#Create data\n",
    "for i in range(4):\n",
    "    locals()['PSO_data_' + str(i)] = plotting_benchmark(datatype = 'max_value',\n",
    "                                                        directory = '../result/benchmark_activity/PSO/' + directory[i] + '/Summary/',\n",
    "                                                        max_generation = 20,\n",
    "                                                        label = label,\n",
    "                                                        repetition = 5,\n",
    "                                                        bayesian = '../result/benchmark_activity/BO/' + directory[i] + '/Summary/result_',\n",
    "                                                        initial_points = initial_points[i],\n",
    "                                                        top_value = maximum_activity[i],\n",
    "                                                        factor = 1)"
   ]
  },
  {
   "cell_type": "code",
   "execution_count": null,
   "id": "3e4eae7b",
   "metadata": {},
   "outputs": [],
   "source": [
    "model_title = ['Model 1', 'Model 2', 'Model 3', 'Model 4']\n",
    "create_subplot(PSO_data_0, PSO_data_1, PSO_data_2, PSO_data_3, x_low = 0, x_high = 15, y_low = 0.175, y_high = 1.05, y_label = 'Best Activity Found')"
   ]
  }
 ],
 "metadata": {
  "kernelspec": {
   "display_name": "base",
   "language": "python",
   "name": "python3"
  },
  "language_info": {
   "codemirror_mode": {
    "name": "ipython",
    "version": 3
   },
   "file_extension": ".py",
   "mimetype": "text/x-python",
   "name": "python",
   "nbconvert_exporter": "python",
   "pygments_lexer": "ipython3",
   "version": "3.9.12"
  }
 },
 "nbformat": 4,
 "nbformat_minor": 5
}
